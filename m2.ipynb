{
 "cells": [
  {
   "cell_type": "code",
   "execution_count": 1,
   "id": "d04369db",
   "metadata": {},
   "outputs": [],
   "source": [
    "import numpy as np\n",
    "import matplotlib.pyplot as plt"
   ]
  },
  {
   "cell_type": "markdown",
   "id": "1948888d",
   "metadata": {},
   "source": [
    "### Visual Ananlysis:\n",
    "    - we have different options\n",
    "    1. Univariate analysis\n",
    "    2. Bi variate analysis\n",
    "    3. Multi variate analysis"
   ]
  },
  {
   "cell_type": "markdown",
   "id": "052321e7",
   "metadata": {},
   "source": [
    "#### 1. Univariate analysis:\n",
    "    -  only one input is used, lineplot, hist,pie, box plot, violine plot\n",
    "    Example:\n",
    "    marks = [45-99%]  min marks, max marks, 45- 55 -65 -75 -above"
   ]
  },
  {
   "cell_type": "markdown",
   "id": "92951880",
   "metadata": {},
   "source": [
    "#### 2. Bi variate analysis:\n",
    "    - 2 features(1 input + 1 output  ), lineplot, barplot, scatter plot, area,\n",
    "    Example:\n",
    "    sq.feet area vs Price\n",
    "    km travelled vs Petrol consumed\n",
    "    Usage vs mobile_battery"
   ]
  },
  {
   "cell_type": "markdown",
   "id": "452f1589",
   "metadata": {},
   "source": [
    "#### 3. Multi variate analysis:\n",
    "    - more than 2 features, or we add multiple categories in it, lineplot, catplot, pairplot, jointplot, swarmplot\n",
    "    Example:\n",
    "    State vs Covid_cases==> with respect to {Male , Female}\n",
    "    Add District Division\n",
    "    240 KA ==> divide on the basis of Age group 18<,  18> cat <50, cat>50"
   ]
  },
  {
   "cell_type": "markdown",
   "id": "81b6a08f",
   "metadata": {},
   "source": [
    "#### Scatter plot:\n",
    "    - bivariate: it requires 2 features\n",
    "    - It is used to check the distribution of data\n",
    "    - it is biggest purpose of Checks outliers in data"
   ]
  },
  {
   "cell_type": "code",
   "execution_count": 2,
   "id": "0847bc9b",
   "metadata": {},
   "outputs": [
    {
     "data": {
      "text/plain": [
       "array([0.68691485, 0.26886321, 0.90036898, 0.66997772, 0.95114007,\n",
       "       0.32196081, 0.13866609, 0.82508944, 0.48045967, 0.68787477,\n",
       "       0.1001787 , 0.49093218, 0.83734254, 0.70842323, 0.92296307,\n",
       "       0.84285323, 0.67839856, 0.75182304, 0.54367223, 0.02664927])"
      ]
     },
     "execution_count": 2,
     "metadata": {},
     "output_type": "execute_result"
    }
   ],
   "source": [
    "a = np.random.random(20)\n",
    "a  # y"
   ]
  },
  {
   "cell_type": "code",
   "execution_count": 3,
   "id": "305ccaab",
   "metadata": {},
   "outputs": [
    {
     "data": {
      "text/plain": [
       "range(0, 20)"
      ]
     },
     "execution_count": 3,
     "metadata": {},
     "output_type": "execute_result"
    }
   ],
   "source": [
    "range(20) # x"
   ]
  },
  {
   "cell_type": "code",
   "execution_count": 4,
   "id": "ca39efdf",
   "metadata": {},
   "outputs": [
    {
     "data": {
      "text/plain": [
       "<matplotlib.collections.PathCollection at 0x2439664f550>"
      ]
     },
     "execution_count": 4,
     "metadata": {},
     "output_type": "execute_result"
    },
    {
     "data": {
      "image/png": "[encoded data removed]",
      "text/plain": [
       "<Figure size 432x288 with 1 Axes>"
      ]
     },
     "metadata": {
      "needs_background": "light"
     },
     "output_type": "display_data"
    }
   ],
   "source": [
    "plt.scatter(range(20),a)"
   ]
  },
  {
   "cell_type": "code",
   "execution_count": 5,
   "id": "0dd16fc3",
   "metadata": {},
   "outputs": [
    {
     "data": {
      "image/png": "[encoded data removed]",
      "text/plain": [
       "<Figure size 432x288 with 1 Axes>"
      ]
     },
     "metadata": {
      "needs_background": "light"
     },
     "output_type": "display_data"
    }
   ],
   "source": [
    "# if u look at above diagram value of X and Y axis are in float\n",
    "# which is not expected\n",
    "plt.scatter(range(1,21),a)\n",
    "plt.xticks(range(1,21),list(range(1,21)))\n",
    "plt.show()"
   ]
  },
  {
   "cell_type": "code",
   "execution_count": 6,
   "id": "db69cdfc",
   "metadata": {},
   "outputs": [
    {
     "data": {
      "text/plain": [
       "(0.0, 22.0)"
      ]
     },
     "execution_count": 6,
     "metadata": {},
     "output_type": "execute_result"
    },
    {
     "data": {
      "image/png": "[encoded data removed]",
      "text/plain": [
       "<Figure size 432x288 with 1 Axes>"
      ]
     },
     "metadata": {
      "needs_background": "light"
     },
     "output_type": "display_data"
    }
   ],
   "source": [
    "plt.scatter(range(1,21),a)\n",
    "plt.xlim((0.,22.))"
   ]
  },
  {
   "cell_type": "markdown",
   "id": "33da17fc",
   "metadata": {},
   "source": [
    "#### hist plot:\n",
    "    - univariate: it requires 1 features\n",
    "    - It is used to check rangewise distribustion of data\n",
    "    - it gives u a count within a perticular range\n",
    "    - it also shows data distribution"
   ]
  },
  {
   "cell_type": "code",
   "execution_count": 7,
   "id": "0a82f238",
   "metadata": {},
   "outputs": [
    {
     "data": {
      "text/plain": [
       "array([ 53, 121, 166,  63,  40,  66, 151,  72, 109, 193, 107, 112,  60,\n",
       "       133,  57, 101, 185, 130, 121,  54, 117,  71, 194,  52, 176,  82,\n",
       "       166,  61, 147,  50, 168, 120, 156, 179, 107, 171,  42, 153,  66,\n",
       "       167,  77, 162,  63, 168, 183, 144, 139,  76, 189,  85, 187, 198,\n",
       "       119, 113, 195, 171,  50, 163,  88, 113, 186, 154, 154,  83, 143,\n",
       "       157,  71, 121,  42,  43, 138,  59,  71, 106, 106, 101,  81,  66,\n",
       "       150, 144,  60,  80, 103, 165, 111, 114, 194,  42,  81,  78,  47,\n",
       "       188, 127, 196,  94,  67, 148, 149,  60, 159])"
      ]
     },
     "execution_count": 7,
     "metadata": {},
     "output_type": "execute_result"
    }
   ],
   "source": [
    "# normal Blood pressure range is 80,120\n",
    "# will use a numpy to create a data of 100 patients\n",
    "bp = np.random.randint(40,200,100)\n",
    "bp"
   ]
  },
  {
   "cell_type": "code",
   "execution_count": 8,
   "id": "db0970e0",
   "metadata": {},
   "outputs": [
    {
     "data": {
      "text/plain": [
       "40"
      ]
     },
     "execution_count": 8,
     "metadata": {},
     "output_type": "execute_result"
    }
   ],
   "source": [
    "bp.min()"
   ]
  },
  {
   "cell_type": "code",
   "execution_count": 9,
   "id": "208d3536",
   "metadata": {},
   "outputs": [
    {
     "data": {
      "text/plain": [
       "198"
      ]
     },
     "execution_count": 9,
     "metadata": {},
     "output_type": "execute_result"
    }
   ],
   "source": [
    "bp.max()"
   ]
  },
  {
   "cell_type": "code",
   "execution_count": 10,
   "id": "5ac2ae78",
   "metadata": {},
   "outputs": [
    {
     "data": {
      "text/plain": [
       "(array([11., 15., 10.,  5., 11.,  8.,  9., 12.,  7., 12.]),\n",
       " array([ 40. ,  55.8,  71.6,  87.4, 103.2, 119. , 134.8, 150.6, 166.4,\n",
       "        182.2, 198. ]),\n",
       " <BarContainer object of 10 artists>)"
      ]
     },
     "execution_count": 10,
     "metadata": {},
     "output_type": "execute_result"
    },
    {
     "data": {
      "image/png": "[encoded data removed]",
      "text/plain": [
       "<Figure size 432x288 with 1 Axes>"
      ]
     },
     "metadata": {
      "needs_background": "light"
     },
     "output_type": "display_data"
    }
   ],
   "source": [
    "# check default disctribution of data using hist plot\n",
    "plt.hist(bp)"
   ]
  },
  {
   "cell_type": "code",
   "execution_count": 11,
   "id": "8341aaa1",
   "metadata": {},
   "outputs": [
    {
     "data": {
      "text/plain": [
       "(array([5., 1., 1., 1., 0., 3., 4., 2., 4., 3.]),\n",
       " array([ 80.,  84.,  88.,  92.,  96., 100., 104., 108., 112., 116., 120.]),\n",
       " <BarContainer object of 10 artists>)"
      ]
     },
     "execution_count": 11,
     "metadata": {},
     "output_type": "execute_result"
    },
    {
     "data": {
      "image/png": "[encoded data removed]",
      "text/plain": [
       "<Figure size 432x288 with 1 Axes>"
      ]
     },
     "metadata": {
      "needs_background": "light"
     },
     "output_type": "display_data"
    }
   ],
   "source": [
    "# supply own range of min and max\n",
    "plt.hist(bp,range=(80,120))"
   ]
  },
  {
   "cell_type": "code",
   "execution_count": 12,
   "id": "6c98431a",
   "metadata": {},
   "outputs": [
    {
     "data": {
      "text/plain": [
       "(array([24.,  7., 17.]),\n",
       " array([ 50,  80,  90, 120]),\n",
       " <BarContainer object of 3 artists>)"
      ]
     },
     "execution_count": 12,
     "metadata": {},
     "output_type": "execute_result"
    },
    {
     "data": {
      "image/png": "[encoded data removed]",
      "text/plain": [
       "<Figure size 432x288 with 1 Axes>"
      ]
     },
     "metadata": {
      "needs_background": "light"
     },
     "output_type": "display_data"
    }
   ],
   "source": [
    "# supply own range in hist using bins attribute\n",
    "plt.hist(bp,bins=[50,80,90,120],rwidth=.96)"
   ]
  }
 ],
 "metadata": {
  "kernelspec": {
   "display_name": "Python 3 (ipykernel)",
   "language": "python",
   "name": "python3"
  },
  "language_info": {
   "codemirror_mode": {
    "name": "ipython",
    "version": 3
   },
   "file_extension": ".py",
   "mimetype": "text/x-python",
   "name": "python",
   "nbconvert_exporter": "python",
   "pygments_lexer": "ipython3",
   "version": "3.9.12"
  }
 },
 "nbformat": 4,
 "nbformat_minor": 5
}
